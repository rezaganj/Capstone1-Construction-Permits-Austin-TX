{
 "cells": [
  {
   "cell_type": "code",
   "execution_count": 2,
   "id": "responsible-enzyme",
   "metadata": {},
   "outputs": [],
   "source": [
    "import numpy as np\n",
    "import pandas as pd\n",
    "import scipy.stats as stats\n",
    "import matplotlib.pyplot as plt\n",
    "\n",
    "import pyspark as ps"
   ]
  },
  {
   "cell_type": "code",
   "execution_count": 3,
   "id": "endangered-outreach",
   "metadata": {},
   "outputs": [],
   "source": [
    "spark = (ps.sql.SparkSession\n",
    "         .builder\n",
    "         .master('local[4]')\n",
    "         .appName('constructionPermitsAustin')\n",
    "         .getOrCreate()\n",
    "        )\n",
    "sc = spark.sparkContext"
   ]
  },
  {
   "cell_type": "code",
   "execution_count": 4,
   "id": "gothic-sydney",
   "metadata": {},
   "outputs": [
    {
     "data": {
      "text/html": [
       "\n",
       "        <div>\n",
       "            <p><b>SparkContext</b></p>\n",
       "\n",
       "            <p><a href=\"http://ce305ea9fcea:4040\">Spark UI</a></p>\n",
       "\n",
       "            <dl>\n",
       "              <dt>Version</dt>\n",
       "                <dd><code>v3.1.1</code></dd>\n",
       "              <dt>Master</dt>\n",
       "                <dd><code>local[4]</code></dd>\n",
       "              <dt>AppName</dt>\n",
       "                <dd><code>constructionPermitsAustin</code></dd>\n",
       "            </dl>\n",
       "        </div>\n",
       "        "
      ],
      "text/plain": [
       "<SparkContext master=local[4] appName=constructionPermitsAustin>"
      ]
     },
     "execution_count": 4,
     "metadata": {},
     "output_type": "execute_result"
    }
   ],
   "source": [
    "sc"
   ]
  },
  {
   "cell_type": "code",
   "execution_count": 7,
   "id": "conditional-thinking",
   "metadata": {},
   "outputs": [
    {
     "name": "stdout",
     "output_type": "stream",
     "text": [
      "Permit Type,Permit Type Desc,Permit Num,Permit Class Mapped,Permit Class,Work Class,Condominium,Project Name,Description,TCAD ID,Property Legal Description,Applied Date,Issued Date,Day Issued,Calendar Year Issued,Fiscal Year Issued,Issued In Last 30 Days,Issuance Method,Status Current,Status Date,Expires Date,Completed Date,Total Existing Bldg SQFT,Remodel Repair SQFT,Total New Add SQFT,Total Valuation Remodel,Total Job Valuation,Number Of Floors,Housing Units,Building Valuation,Building Valuation Remodel,Electrical Valuation,Electrical Valuation Remodel,Mechanical Valuation,Mechanical Valuation Remodel,Plumbing Valuation,Plumbing Valuation Remodel,MedGas Valuation,MedGas Valuation Remodel,Original Address 1,Original City,Original State,Original Zip,Council District,Jurisdiction,Link,Project ID,Master Permit Num,Latitude,Longitude,Location,Contractor Trade,Contractor Company Name,Contractor Full Name,Contractor Phone,Contractor Address 1,Contractor Address 2,Contractor City,Contractor Zip,Applicant Full Name,Applicant Organization,Applicant Phone,Applicant Address 1,Applicant Address 2,Applicant City,Applicant Zip,Certificate Of Occupancy,Total Lot SQFT\n",
      "BP,Building Permit,1986-011519 BP,Residential,Residential,Remodel,No,15718 Smoke Signal Pass             C  00000,New Residence,,,1986/08/29,1986/08/29,FRIDAY,1986,1986,No,Permit Center,Final,06/06/2007,1987/03/25,1986/09/26,,,,,,,1,,,,,,,,,,,SMOKE SIGNAL PASS,PFLUGERVILLE,TX,,,,https://abc.austintexas.gov/web/permit/public-search-other?t_detail=1&t_selected_folderrsn=569499,569499,,,,,,,,,,,,,,,,,,,,No,\n",
      "BP,Building Permit,1986-019018 BP,Residential,R- 101 Single Family Houses,New,No,1308 Cedar Bend Drive              C .00000,Two Stry Frm Res WBrk Ven  Att Gar,,,1986/05/02,1986/05/02,FRIDAY,1986,1986,No,Permit Center,Final,05/22/2007,1988/01/22,1988/01/22,,,,,73010.00,2,1,,,,,,,,,,,CEDAR BEND DR,AUSTIN,TX,,,,https://abc.austintexas.gov/web/permit/public-search-other?t_detail=1&t_selected_folderrsn=758005,758005,,,,,,,,,,,,,,,,,,,,Yes,\n"
     ]
    }
   ],
   "source": [
    "!head -3 ../data/Issued_Construction_Permits.csv"
   ]
  },
  {
   "cell_type": "code",
   "execution_count": 8,
   "id": "classified-salad",
   "metadata": {},
   "outputs": [
    {
     "name": "stdout",
     "output_type": "stream",
     "text": [
      "BP,Building Permit,2021-044450 BP,Commercial,Commercial,Remodel,No,401 LITTLE TEXAS LN BLDG 11,2021 Winter Weather Event Replace drywall cabinets baseboard flooring and paint from water damage Suite 1111 1117 1121 1127 1131 1137,0420050221,LOT 24 ALEXAN STASSNEY HEIGHTS SUBD,2021/03/26,2021/03/26,FRIDAY,2021,2021,Yes,Permit Center,Active,03/26/2021,2021/09/22,,1800,1800,,18000.00,,2,6,,18000.00,,0.00,,0.00,,0.00,,0.00,401 LITTLE TEXAS LN BLDG 11,AUSTIN,TX,78745,2,AUSTIN FULL PURPOSE,https://abc.austintexas.gov/web/permit/public-search-other?t_detail=1&t_selected_folderrsn=12665013,12665013,,30.20067456,-97.77253731,\"(30.20067456, -97.77253731)\",General Contractor,Camp Roofing - DBA Camp Construction,James Helms,5123941111,,8800  TARA LANE,Austin,78737,James Helms,Camp Roofing - DBA Camp Construction,5123941111,,8800  TARA LANE,Austin,78737,No,\n",
      "BP,Building Permit,1999-015814 BP,Commercial,C- 329 Com Structures Other Than Bldg,New,No,3702 NEEDLES DR,New Swimming Pool,0131150204,LOT 4 BLK A DAVENPORT RANCH PHS 1 SEC 1,1999/03/03,2021/03/26,FRIDAY,2021,2021,Yes,Permit Center,Active,03/26/2021,2021/09/22,1999/10/14,,,454,,15000.00,,1,,,,,,,,,,,3702 NEEDLES DR,AUSTIN,TX,78746,10,AUSTIN FULL PURPOSE,https://abc.austintexas.gov/web/permit/public-search-other?t_detail=1&t_selected_folderrsn=760651,760651,,30.33411963,-97.80536591,\"(30.33411963, -97.80536591)\",General Contractor,DIG B LLC,Craig Hoverman,5125868652,,1614  FOREST TRAIL,AUSTIN,78703,,,,,,,,Yes,\n"
     ]
    }
   ],
   "source": [
    "!tail -2 ../data/Issued_Construction_Permits.csv"
   ]
  },
  {
   "cell_type": "code",
   "execution_count": 9,
   "id": "continued-count",
   "metadata": {},
   "outputs": [],
   "source": [
    "!tail -10000 ../data/Issued_Construction_Permits.csv > ../data/last10000lines_Issued_Construction_Permits.csv"
   ]
  },
  {
   "cell_type": "code",
   "execution_count": 10,
   "id": "convinced-frederick",
   "metadata": {},
   "outputs": [],
   "source": [
    "!head -10000 ../data/Issued_Construction_Permits.csv > ../data/first10000lines_Issued_Construction_Permits.csv"
   ]
  },
  {
   "cell_type": "code",
   "execution_count": 11,
   "id": "mighty-complex",
   "metadata": {},
   "outputs": [],
   "source": [
    "!grep 2021 ../data/Issued_Construction_Permits.csv > ../data/2021.csv"
   ]
  },
  {
   "cell_type": "code",
   "execution_count": null,
   "id": "accomplished-shuttle",
   "metadata": {},
   "outputs": [],
   "source": []
  }
 ],
 "metadata": {
  "kernelspec": {
   "display_name": "Python 3",
   "language": "python",
   "name": "python3"
  },
  "language_info": {
   "codemirror_mode": {
    "name": "ipython",
    "version": 3
   },
   "file_extension": ".py",
   "mimetype": "text/x-python",
   "name": "python",
   "nbconvert_exporter": "python",
   "pygments_lexer": "ipython3",
   "version": "3.8.8"
  }
 },
 "nbformat": 4,
 "nbformat_minor": 5
}
